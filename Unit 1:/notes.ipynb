{
 "cells": [
  {
   "cell_type": "markdown",
   "id": "52a9d3f2",
   "metadata": {},
   "source": [
    "## Working with Python Variables"
   ]
  },
  {
   "cell_type": "markdown",
   "id": "580e2351",
   "metadata": {},
   "source": [
    "### Structure of creating a variable\n",
    "[variable_name] [assignment operator] [value]\n",
    "myVar = \"blah\"\n",
    "\n",
    "### What are the data types in Python\n",
    "1. Strings - anything inside of \" \" or ' '\n",
    "2. Booleans - True/False\n",
    "3. Integers - whole numbers, even or odd\n",
    "4. Floats - any number with a decimal\n"
   ]
  },
  {
   "cell_type": "code",
   "execution_count": 1,
   "id": "8e0900b1",
   "metadata": {},
   "outputs": [
    {
     "name": "stdout",
     "output_type": "stream",
     "text": [
      "3.9\n"
     ]
    }
   ],
   "source": [
    "# Variable Reassignment\n",
    "\n",
    "# A student's GPA throughout high school\n",
    "student_gpa = 3.2   # Freshman year\n",
    "\n",
    "student_gpa = 3.4   # Sophomore year\n",
    "\n",
    "student_gpa = 3.7   # Junior year\n",
    "\n",
    "student_gpa = 3.9   # Senior year\n",
    "print(student_gpa)\n",
    "\n",
    "# OUTPUT: 3.9\n",
    "\n",
    "# If you need to store all data\n",
    "student_gpa_Fresh = 3.2   # Freshman year\n",
    "\n",
    "student_gpa_Soph = 3.4   # Sophomore year\n",
    "\n",
    "student_gpa_Jr = 3.7   # Junior year\n",
    "\n",
    "student_gpa_Sr = 3.9   # Senior year"
   ]
  },
  {
   "cell_type": "code",
   "execution_count": 1,
   "id": "2fbc3650",
   "metadata": {},
   "outputs": [
    {
     "name": "stdout",
     "output_type": "stream",
     "text": [
      "True\n"
     ]
    }
   ],
   "source": [
    "# Sports Team Statistics\n",
    "\n",
    "# Basketball team variables\n",
    "team_name = \"Riverside Ravens\"\n",
    "wins = 18\n",
    "losses = 7\n",
    "points_scored = 1456\n",
    "points_allowed = 1298\n",
    "leading_scorer = \"Jordan Thompson\"\n",
    "average_points_per_game = 58.2\n",
    "championship_contender = True\n",
    "\n",
    "print(championship_contender)"
   ]
  },
  {
   "cell_type": "code",
   "execution_count": 4,
   "id": "fcc6c690",
   "metadata": {},
   "outputs": [
    {
     "name": "stdout",
     "output_type": "stream",
     "text": [
      "Kainan\n"
     ]
    }
   ],
   "source": [
    "# the input function\n",
    "\n",
    "first_name = input(\"Enter your first name: \")\n",
    "\n",
    "print(first_name)"
   ]
  },
  {
   "cell_type": "markdown",
   "id": "cc287cdb",
   "metadata": {},
   "source": [
    "## 4 Main Computational Process\n",
    "\n",
    "- Input\n",
    "- Processing\n",
    "- Output\n",
    "- Storage (Memory)"
   ]
  },
  {
   "cell_type": "markdown",
   "id": "4aa1cbec",
   "metadata": {},
   "source": [
    "## Strings, Assignment, and Comments\n",
    "\n",
    "**Data Types** - consists of a set of values and a set of operations that can be performed on those values\n",
    "\n",
    "A **Literal** - is the way a value of a data type looks to a programmer\n",
    "\n",
    "<table>\n",
    "    <tr>\n",
    "        <th>Type of Data</th>\n",
    "        <th>Python Type Name</th>\n",
    "        <th>Example Literals</th>\n",
    "    </tr>\n",
    "    <tr>\n",
    "        <td>Integers</td>\n",
    "        <td>int</td>\n",
    "        <td>-1, 0, 1, 365, -1457324</td>\n",
    "    </tr>\n",
    "    <tr>\n",
    "        <td>Real Numbers</td>\n",
    "        <td>float</td>\n",
    "        <td>-0.55, .3333, 3.14, 6.0, .5, 5.</td>\n",
    "    </tr>\n",
    "    <tr>\n",
    "        <td>Character Strings</td>\n",
    "        <td>str</td>\n",
    "        <td>\"Hello\", \"\", \" \", 'A', \"675\"</td>\n",
    "    </tr>\n",
    "</table>"
   ]
  },
  {
   "cell_type": "code",
   "execution_count": 1,
   "id": "8579e3b8",
   "metadata": {},
   "outputs": [
    {
     "name": "stdout",
     "output_type": "stream",
     "text": [
      "Hello there!\n",
      "675\n"
     ]
    }
   ],
   "source": [
    "hello = \"Hello there!\"\n",
    "myInt = 675\n",
    "print(hello) # Literal is: Hello there!\n",
    "print(myInt) # Literal is: 675"
   ]
  },
  {
   "cell_type": "markdown",
   "id": "59c2037b",
   "metadata": {},
   "source": [
    "## Escape Sequences\n",
    "\n",
    "**Escape Sequence** - the way Python expresses special characters, such as the tab, the newline, and the backspace as Literals\n",
    "\n",
    "<table>\n",
    "    <tr>\n",
    "        <th>Escape Sequence</th>\n",
    "        <th>Meaning</th>\n",
    "    </tr>\n",
    "    <tr>\n",
    "        <td>\\b</td>\n",
    "        <td>Backspace</td>\n",
    "    </tr>\n",
    "    <tr>\n",
    "        <td>\\n</td>\n",
    "        <td>New Line</td>\n",
    "    </tr>\n",
    "    <tr>\n",
    "        <td>\\t</td>\n",
    "        <td>Horizontal Tab</td>\n",
    "    </tr>\n",
    "    <tr>\n",
    "        <td>\\\\</td>\n",
    "        <td>The \\ character</td>\n",
    "    </tr>\n",
    "    <tr>\n",
    "        <td>\\'</td>\n",
    "        <td>Single quotation mark</td>\n",
    "    </tr>\n",
    "    <tr>\n",
    "        <td>\\\"</td>\n",
    "        <td>Double quotation mark</td>\n",
    "    </tr>\n",
    "</table>"
   ]
  },
  {
   "cell_type": "markdown",
   "id": "eecc226a",
   "metadata": {},
   "source": []
  }
 ],
 "metadata": {
  "kernelspec": {
   "display_name": "Python 3",
   "language": "python",
   "name": "python3"
  },
  "language_info": {
   "codemirror_mode": {
    "name": "ipython",
    "version": 3
   },
   "file_extension": ".py",
   "mimetype": "text/x-python",
   "name": "python",
   "nbconvert_exporter": "python",
   "pygments_lexer": "ipython3",
   "version": "3.12.1"
  }
 },
 "nbformat": 4,
 "nbformat_minor": 5
}
